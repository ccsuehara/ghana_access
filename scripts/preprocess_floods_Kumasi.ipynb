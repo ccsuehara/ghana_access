{
 "cells": [
  {
   "cell_type": "code",
   "execution_count": 32,
   "id": "ac2dd38b-ed65-4cf2-8986-b90cb9b82071",
   "metadata": {},
   "outputs": [],
   "source": []
  },
  {
   "cell_type": "code",
   "execution_count": null,
   "id": "b0679011-80e9-46d4-826c-dc8131b9e981",
   "metadata": {},
   "outputs": [],
   "source": [
    "import os, time\n",
    "#import country_converter as coco\n",
    "\n",
    "from osgeo import gdal\n",
    "import pandas as pd \n",
    "import geopandas as gpd\n",
    "import matplotlib\n",
    "import matplotlib.pyplot as plt\n",
    "import numpy as np\n",
    "from pathlib import Path \n",
    "#import pycountry \n",
    "\n",
    "import rasterio as rs\n",
    "from rasterio.plot import show\n",
    "from rasterio.enums import Resampling\n",
    "from rasterio.plot import plotting_extent\n",
    "from rasterio.merge import merge\n",
    "import rasterio.mask\n",
    "from rasterio import shutil as rio_shutil\n",
    "#from rasterio.vrt import WarpedVRT\n",
    "import re\n",
    "\n",
    "import glob \n",
    "def tPrint(s):\n",
    "    print(\"%s\\t%s\" % (time.strftime(\"%H:%M:%S\"), s))"
   ]
  },
  {
   "cell_type": "code",
   "execution_count": 39,
   "id": "20684dd5-aa10-43c7-ae17-ee3c9dccff1f",
   "metadata": {},
   "outputs": [],
   "source": [
    "## Taken from the code provided by Jun and Melda thankyoouuuu\n",
    "\n",
    "def crop_to_shp(path_name, df, filePrefix):\n",
    "    raster = rs.open(path_name)\n",
    "    # Mask to shapefile\n",
    "    out_array, out_trans = rs.mask.mask(dataset=raster, shapes=df.geometry, crop=True)\n",
    "\n",
    "    out_meta = raster.meta.copy()\n",
    "    out_meta.update({\"height\": out_array.shape[1], \n",
    "                      \"width\": out_array.shape[2],\n",
    "                      \"transform\": out_trans})\n",
    "    return out_array, out_meta\n",
    "\n",
    "\n",
    "def export_raster_to_geotiff(array, meta, path, fileName, filePrefix):\n",
    "    Cropped_outputfile = path + fileName\n",
    "    with rs.open(Cropped_outputfile, 'w', **meta, compress = 'LZW', tiled=True) as dest:\n",
    "        dest.write(array)\n",
    "    return Cropped_outputfile\n",
    "    tPrint(f\"{countryCode}_{adm1Index} - {filePrefix} exported\")\n",
    "\n",
    "def open_files_in_list(fileList):\n",
    "    outputList = []\n",
    "    for fp in fileList:\n",
    "        src = rs.open(fp)\n",
    "        outputList.append(src) \n",
    "    return outputList"
   ]
  },
  {
   "cell_type": "code",
   "execution_count": null,
   "id": "b5325da8-3919-456d-b2f9-cea3ec1bc8d6",
   "metadata": {},
   "outputs": [],
   "source": []
  },
  {
   "cell_type": "code",
   "execution_count": 5,
   "id": "aae8f5a2-a012-4b11-a434-36c5f439895c",
   "metadata": {},
   "outputs": [
    {
     "data": {
      "image/svg+xml": [
       "<svg xmlns=\"http://www.w3.org/2000/svg\" xmlns:xlink=\"http://www.w3.org/1999/xlink\" width=\"100.0\" height=\"100.0\" viewBox=\"-1.7184 6.601600000000014 0.2267999999999999 0.1767999999999823\" preserveAspectRatio=\"xMinYMin meet\"><g transform=\"matrix(1,0,0,-1,0,13.38000000000001)\"><path fill-rule=\"evenodd\" fill=\"#66cc99\" stroke=\"#555555\" stroke-width=\"0.0045359999999999975\" opacity=\"0.6\" d=\"M -1.71,6.610000000000014 L -1.71,6.769999999999996 L -1.5,6.769999999999996 L -1.5,6.610000000000014 L -1.71,6.610000000000014 z\" /></g></svg>"
      ],
      "text/plain": [
       "<shapely.geometry.polygon.Polygon at 0x7fe3f0f18130>"
      ]
     },
     "execution_count": 5,
     "metadata": {},
     "output_type": "execute_result"
    }
   ],
   "source": [
    "city = gpd.read_file(\"../data/Kumasi_shp/clipping_boundary.geojson\").set_crs(epsg=4326)\n",
    "bound = city.geometry.iloc[0]\n",
    "bound.buffer(0)"
   ]
  },
  {
   "cell_type": "code",
   "execution_count": 41,
   "id": "aa1b51ba-22c5-44b6-a5dc-230525bd8628",
   "metadata": {},
   "outputs": [],
   "source": [
    "## pluvial \n",
    "os.chdir(\"/Users/ccsuehara/GH_folders/ghana_access/data/Ghana/pluvial\")\n",
    "pluv = glob.glob(\"*.tif\")\n",
    "## fluvial\n",
    "os.chdir(\"/Users/ccsuehara/GH_folders/ghana_access/data/Ghana/fluvial_undefended\")\n",
    "fluv = glob.glob(\"*.tif\")\n",
    "\n",
    "os.chdir(\"/Users/ccsuehara/GH_folders/ghana_access/scripts\")\n",
    "\n",
    "\n",
    "for each in pluv:\n",
    "    out_arr, out_meta = crop_to_shp(\"../data/Ghana/pluvial/\" + each, city, \"plu\")\n",
    "    export_raster_to_geotiff(out_arr, out_meta, \"../data/processed/Kumasi/\", each,\"plu\")\n",
    "\n",
    "for each in fluv:\n",
    "    out_arr, out_meta = crop_to_shp(\"../data/Ghana/fluvial_undefended/\" + each, city, \"flu\")\n",
    "    export_raster_to_geotiff(out_arr, out_meta, \"../data/processed/Kumasi/\", each,\"plu\")\n",
    "\n",
    "dic_files = {'ev_5': glob.glob(\"../data/processed/Kumasi/*_1in5.tif\"),\n",
    "             'ev_10': glob.glob(\"../data/processed/Kumasi/*_1in10.tif\"),\n",
    "            'ev_20': glob.glob(\"../data/processed/Kumasi/*_1in20.tif\"),\n",
    "            'ev_50': glob.glob(\"../data/processed/Kumasi/*_1in50.tif\"),\n",
    "            'ev_75': glob.glob(\"../data/processed/Kumasi/*_1in75.tif\"),\n",
    "            'ev_100': glob.glob(\"../data/processed/Kumasi/*_1in100.tif\"),\n",
    "            'ev_200': glob.glob(\"../data/processed/Kumasi/*_1in200.tif\"),\n",
    "            'ev_250': glob.glob(\"../data/processed/Kumasi/*_1in250.tif\"),\n",
    "            'ev_500': glob.glob(\"../data/processed/Kumasi/*_1in500.tif\"),\n",
    "            'ev_1000': glob.glob(\"../data/processed/Kumasi/*_1in1000.tif\")}\n",
    "\n",
    "for key, val in dic_files.items():\n",
    "    out_lst = open_files_in_list(val)\n",
    "    floodArray, out_trans = merge(out_lst, method='max')\n",
    "    out_meta = out_lst[0].meta.copy()\n",
    "    out_meta.update({\"height\": floodArray.shape[1], \n",
    "                            \"width\": floodArray.shape[2],\n",
    "                            \"transform\": out_trans})\n",
    "    with rs.open(\"../data/processed/Kumasi/merged/\" + key + \".tif\", 'w', **out_meta, compress = 'LZW', tiled=True) as dest:\n",
    "          dest.write(floodArray)"
   ]
  },
  {
   "cell_type": "code",
   "execution_count": null,
   "id": "1e371500-ab35-4ee8-a71a-bd410a4e8566",
   "metadata": {},
   "outputs": [],
   "source": []
  }
 ],
 "metadata": {
  "kernelspec": {
   "display_name": "Python 3 (ipykernel)",
   "language": "python",
   "name": "python3"
  },
  "language_info": {
   "codemirror_mode": {
    "name": "ipython",
    "version": 3
   },
   "file_extension": ".py",
   "mimetype": "text/x-python",
   "name": "python",
   "nbconvert_exporter": "python",
   "pygments_lexer": "ipython3",
   "version": "3.8.12"
  }
 },
 "nbformat": 4,
 "nbformat_minor": 5
}
