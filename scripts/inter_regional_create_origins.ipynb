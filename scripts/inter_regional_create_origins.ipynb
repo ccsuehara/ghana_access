{
 "cells": [
  {
   "cell_type": "markdown",
   "id": "77087923-2151-4b77-9661-59c07df271e4",
   "metadata": {},
   "source": [
    "\n",
    "Creating the origins for inter-regional analysis:\n",
    "area of interest: Ashanti region. We want to find out the accessibility analysis from hamlets and small settlement areas to Kumasi and how travel times would get affected after a flooding hazard event.\n",
    "destination: center of Kumasi. \n",
    "\n",
    "Steps for getting the inputs cleaned:\n",
    "- Overlay the Ashanti region with the settlements, keep only relevant settlements\n",
    "- calculate centroids of settlements.\n",
    "- save into a csv. "
   ]
  },
  {
   "cell_type": "code",
   "execution_count": null,
   "id": "2fbdb1e7-3e95-44e5-b758-e9496235e338",
   "metadata": {},
   "outputs": [],
   "source": [
    "import geopandas as gpd\n",
    "import pandas as pd\n",
    "import numpy as np"
   ]
  },
  {
   "cell_type": "code",
   "execution_count": 9,
   "id": "9c988890-518f-48f4-8efd-f36721e24a47",
   "metadata": {},
   "outputs": [],
   "source": [
    "\n",
    "### Overlay of Ashanti to see inter-regional analysis: \n",
    "\n",
    "ashanti = gpd.read_file(\"/Users/ccsuehara/Documents/Ghana/data/ADM2_mat.shp\")\n",
    "ashanti = ashanti[ashanti['ADM1_NAME'] == \"Ashanti\"]\n",
    "ashanti.set_crs('epsg:4326')                \n",
    "                        \n",
    "settlements = gpd.read_file(\"/Users/ccsuehara/Documents/Ghana/data/inter_regional/GRID3_Ghana_Settlement_Extents%2C_Version_01.01./GRID3_Ghana_Settlement_Extents%2C_Version_01.01..shp\")\n",
    "settlements.set_crs('epsg:4326')\n"
   ]
  },
  {
   "cell_type": "code",
   "execution_count": 60,
   "id": "54d5da13-44e9-4910-9f10-a6e649c35034",
   "metadata": {},
   "outputs": [],
   "source": [
    "ash_settlements = gpd.overlay(ashanti,settlements, how='intersection')\n",
    "new_ash = ash_settlements.copy()\n"
   ]
  },
  {
   "cell_type": "code",
   "execution_count": 56,
   "id": "4d6acc64-ee5f-46d7-9894-6d4768d0dffb",
   "metadata": {},
   "outputs": [],
   "source": [
    "new_ash = new_ash.to_crs('epsg:25000')\n",
    "\n",
    "new_ash['centroid'] = new_ash.centroid\n",
    "new_ash['centroid'] = new_ash['centroid'].to_crs('epsg:4326')"
   ]
  },
  {
   "cell_type": "code",
   "execution_count": 59,
   "id": "b1f2da44-03de-466f-a978-a4f33bdf61cb",
   "metadata": {},
   "outputs": [],
   "source": [
    "new_ash.to_csv(\"/Users/ccsuehara/Documents/Ghana/data/inter_regional/ashanti_settlements.csv\")"
   ]
  }
 ],
 "metadata": {
  "kernelspec": {
   "display_name": "Python 3 (ipykernel)",
   "language": "python",
   "name": "python3"
  },
  "language_info": {
   "codemirror_mode": {
    "name": "ipython",
    "version": 3
   },
   "file_extension": ".py",
   "mimetype": "text/x-python",
   "name": "python",
   "nbconvert_exporter": "python",
   "pygments_lexer": "ipython3",
   "version": "3.8.12"
  }
 },
 "nbformat": 4,
 "nbformat_minor": 5
}
